{
 "cells": [
  {
   "cell_type": "code",
   "execution_count": 1,
   "metadata": {},
   "outputs": [],
   "source": [
    "import pandas as pd\n",
    "import numpy as np\n",
    "import matplotlib.pyplot as plt"
   ]
  },
  {
   "cell_type": "code",
   "execution_count": 2,
   "metadata": {},
   "outputs": [
    {
     "data": {
      "text/html": [
       "<div>\n",
       "<style scoped>\n",
       "    .dataframe tbody tr th:only-of-type {\n",
       "        vertical-align: middle;\n",
       "    }\n",
       "\n",
       "    .dataframe tbody tr th {\n",
       "        vertical-align: top;\n",
       "    }\n",
       "\n",
       "    .dataframe thead th {\n",
       "        text-align: right;\n",
       "    }\n",
       "</style>\n",
       "<table border=\"1\" class=\"dataframe\">\n",
       "  <thead>\n",
       "    <tr style=\"text-align: right;\">\n",
       "      <th></th>\n",
       "      <th>date</th>\n",
       "      <th>Appliances</th>\n",
       "      <th>lights</th>\n",
       "      <th>Temperature in Kitchen area</th>\n",
       "      <th>Humidity in kitchen area</th>\n",
       "      <th>Temperature in laundry room area</th>\n",
       "      <th>Humidity in living room area</th>\n",
       "      <th>Temperature in laundry room area.1</th>\n",
       "      <th>Humidity in office room</th>\n",
       "      <th>Temperature in office room</th>\n",
       "      <th>...</th>\n",
       "      <th>Temperature in parents room</th>\n",
       "      <th>Humidity in parents room</th>\n",
       "      <th>Temperature_out</th>\n",
       "      <th>Pressure_mm_hg</th>\n",
       "      <th>Humidity outside (from Chievres weather station)</th>\n",
       "      <th>Windspeed</th>\n",
       "      <th>Visibility</th>\n",
       "      <th>Tdewpoint</th>\n",
       "      <th>Random Variable 1</th>\n",
       "      <th>Random Variable 2</th>\n",
       "    </tr>\n",
       "  </thead>\n",
       "  <tbody>\n",
       "    <tr>\n",
       "      <td>0</td>\n",
       "      <td>2016-01-11 17:00:00</td>\n",
       "      <td>60</td>\n",
       "      <td>30</td>\n",
       "      <td>19.89</td>\n",
       "      <td>47.596667</td>\n",
       "      <td>19.2</td>\n",
       "      <td>44.790000</td>\n",
       "      <td>19.79</td>\n",
       "      <td>44.730000</td>\n",
       "      <td>19.000000</td>\n",
       "      <td>...</td>\n",
       "      <td>17.033333</td>\n",
       "      <td>45.53</td>\n",
       "      <td>6.600000</td>\n",
       "      <td>733.5</td>\n",
       "      <td>92.0</td>\n",
       "      <td>7.000000</td>\n",
       "      <td>63.000000</td>\n",
       "      <td>5.3</td>\n",
       "      <td>13.275433</td>\n",
       "      <td>13.275433</td>\n",
       "    </tr>\n",
       "    <tr>\n",
       "      <td>1</td>\n",
       "      <td>2016-01-11 17:10:00</td>\n",
       "      <td>60</td>\n",
       "      <td>30</td>\n",
       "      <td>19.89</td>\n",
       "      <td>46.693333</td>\n",
       "      <td>19.2</td>\n",
       "      <td>44.722500</td>\n",
       "      <td>19.79</td>\n",
       "      <td>44.790000</td>\n",
       "      <td>19.000000</td>\n",
       "      <td>...</td>\n",
       "      <td>17.066667</td>\n",
       "      <td>45.56</td>\n",
       "      <td>6.483333</td>\n",
       "      <td>733.6</td>\n",
       "      <td>92.0</td>\n",
       "      <td>6.666667</td>\n",
       "      <td>59.166667</td>\n",
       "      <td>5.2</td>\n",
       "      <td>18.606195</td>\n",
       "      <td>18.606195</td>\n",
       "    </tr>\n",
       "    <tr>\n",
       "      <td>2</td>\n",
       "      <td>2016-01-11 17:20:00</td>\n",
       "      <td>50</td>\n",
       "      <td>30</td>\n",
       "      <td>19.89</td>\n",
       "      <td>46.300000</td>\n",
       "      <td>19.2</td>\n",
       "      <td>44.626667</td>\n",
       "      <td>19.79</td>\n",
       "      <td>44.933333</td>\n",
       "      <td>18.926667</td>\n",
       "      <td>...</td>\n",
       "      <td>17.000000</td>\n",
       "      <td>45.50</td>\n",
       "      <td>6.366667</td>\n",
       "      <td>733.7</td>\n",
       "      <td>92.0</td>\n",
       "      <td>6.333333</td>\n",
       "      <td>55.333333</td>\n",
       "      <td>5.1</td>\n",
       "      <td>28.642668</td>\n",
       "      <td>28.642668</td>\n",
       "    </tr>\n",
       "    <tr>\n",
       "      <td>3</td>\n",
       "      <td>2016-01-11 17:30:00</td>\n",
       "      <td>50</td>\n",
       "      <td>40</td>\n",
       "      <td>19.89</td>\n",
       "      <td>46.066667</td>\n",
       "      <td>19.2</td>\n",
       "      <td>44.590000</td>\n",
       "      <td>19.79</td>\n",
       "      <td>45.000000</td>\n",
       "      <td>18.890000</td>\n",
       "      <td>...</td>\n",
       "      <td>17.000000</td>\n",
       "      <td>45.40</td>\n",
       "      <td>6.250000</td>\n",
       "      <td>733.8</td>\n",
       "      <td>92.0</td>\n",
       "      <td>6.000000</td>\n",
       "      <td>51.500000</td>\n",
       "      <td>5.0</td>\n",
       "      <td>45.410389</td>\n",
       "      <td>45.410389</td>\n",
       "    </tr>\n",
       "    <tr>\n",
       "      <td>4</td>\n",
       "      <td>2016-01-11 17:40:00</td>\n",
       "      <td>60</td>\n",
       "      <td>40</td>\n",
       "      <td>19.89</td>\n",
       "      <td>46.333333</td>\n",
       "      <td>19.2</td>\n",
       "      <td>44.530000</td>\n",
       "      <td>19.79</td>\n",
       "      <td>45.000000</td>\n",
       "      <td>18.890000</td>\n",
       "      <td>...</td>\n",
       "      <td>17.000000</td>\n",
       "      <td>45.40</td>\n",
       "      <td>6.133333</td>\n",
       "      <td>733.9</td>\n",
       "      <td>92.0</td>\n",
       "      <td>5.666667</td>\n",
       "      <td>47.666667</td>\n",
       "      <td>4.9</td>\n",
       "      <td>10.084097</td>\n",
       "      <td>10.084097</td>\n",
       "    </tr>\n",
       "  </tbody>\n",
       "</table>\n",
       "<p>5 rows × 29 columns</p>\n",
       "</div>"
      ],
      "text/plain": [
       "                  date  Appliances  lights  Temperature in Kitchen area  \\\n",
       "0  2016-01-11 17:00:00          60      30                        19.89   \n",
       "1  2016-01-11 17:10:00          60      30                        19.89   \n",
       "2  2016-01-11 17:20:00          50      30                        19.89   \n",
       "3  2016-01-11 17:30:00          50      40                        19.89   \n",
       "4  2016-01-11 17:40:00          60      40                        19.89   \n",
       "\n",
       "   Humidity in kitchen area  Temperature in laundry room area  \\\n",
       "0                 47.596667                              19.2   \n",
       "1                 46.693333                              19.2   \n",
       "2                 46.300000                              19.2   \n",
       "3                 46.066667                              19.2   \n",
       "4                 46.333333                              19.2   \n",
       "\n",
       "   Humidity in living room area  Temperature in laundry room area.1  \\\n",
       "0                     44.790000                               19.79   \n",
       "1                     44.722500                               19.79   \n",
       "2                     44.626667                               19.79   \n",
       "3                     44.590000                               19.79   \n",
       "4                     44.530000                               19.79   \n",
       "\n",
       "   Humidity in office room  Temperature in office room  ...  \\\n",
       "0                44.730000                   19.000000  ...   \n",
       "1                44.790000                   19.000000  ...   \n",
       "2                44.933333                   18.926667  ...   \n",
       "3                45.000000                   18.890000  ...   \n",
       "4                45.000000                   18.890000  ...   \n",
       "\n",
       "   Temperature in parents room  Humidity in parents room  Temperature_out  \\\n",
       "0                    17.033333                     45.53         6.600000   \n",
       "1                    17.066667                     45.56         6.483333   \n",
       "2                    17.000000                     45.50         6.366667   \n",
       "3                    17.000000                     45.40         6.250000   \n",
       "4                    17.000000                     45.40         6.133333   \n",
       "\n",
       "   Pressure_mm_hg  Humidity outside (from Chievres weather station)  \\\n",
       "0           733.5                                              92.0   \n",
       "1           733.6                                              92.0   \n",
       "2           733.7                                              92.0   \n",
       "3           733.8                                              92.0   \n",
       "4           733.9                                              92.0   \n",
       "\n",
       "   Windspeed  Visibility  Tdewpoint  Random Variable 1  Random Variable 2  \n",
       "0   7.000000   63.000000        5.3          13.275433          13.275433  \n",
       "1   6.666667   59.166667        5.2          18.606195          18.606195  \n",
       "2   6.333333   55.333333        5.1          28.642668          28.642668  \n",
       "3   6.000000   51.500000        5.0          45.410389          45.410389  \n",
       "4   5.666667   47.666667        4.9          10.084097          10.084097  \n",
       "\n",
       "[5 rows x 29 columns]"
      ]
     },
     "execution_count": 2,
     "metadata": {},
     "output_type": "execute_result"
    }
   ],
   "source": [
    "raw_data=pd.read_csv('energy_data.csv')\n",
    "raw_data.head()"
   ]
  },
  {
   "cell_type": "code",
   "execution_count": 3,
   "metadata": {},
   "outputs": [],
   "source": [
    "raw_data.drop(['date', 'lights'], axis=1, inplace=True)"
   ]
  },
  {
   "cell_type": "code",
   "execution_count": 4,
   "metadata": {},
   "outputs": [
    {
     "data": {
      "text/html": [
       "<div>\n",
       "<style scoped>\n",
       "    .dataframe tbody tr th:only-of-type {\n",
       "        vertical-align: middle;\n",
       "    }\n",
       "\n",
       "    .dataframe tbody tr th {\n",
       "        vertical-align: top;\n",
       "    }\n",
       "\n",
       "    .dataframe thead th {\n",
       "        text-align: right;\n",
       "    }\n",
       "</style>\n",
       "<table border=\"1\" class=\"dataframe\">\n",
       "  <thead>\n",
       "    <tr style=\"text-align: right;\">\n",
       "      <th></th>\n",
       "      <th>Appliances</th>\n",
       "      <th>Temperature in Kitchen area</th>\n",
       "      <th>Humidity in kitchen area</th>\n",
       "      <th>Temperature in laundry room area</th>\n",
       "      <th>Humidity in living room area</th>\n",
       "      <th>Temperature in laundry room area.1</th>\n",
       "      <th>Humidity in office room</th>\n",
       "      <th>Temperature in office room</th>\n",
       "      <th>Humidity in office room.1</th>\n",
       "      <th>Temperature in bathroom</th>\n",
       "      <th>...</th>\n",
       "      <th>Temperature in parents room</th>\n",
       "      <th>Humidity in parents room</th>\n",
       "      <th>Temperature_out</th>\n",
       "      <th>Pressure_mm_hg</th>\n",
       "      <th>Humidity outside (from Chievres weather station)</th>\n",
       "      <th>Windspeed</th>\n",
       "      <th>Visibility</th>\n",
       "      <th>Tdewpoint</th>\n",
       "      <th>Random Variable 1</th>\n",
       "      <th>Random Variable 2</th>\n",
       "    </tr>\n",
       "  </thead>\n",
       "  <tbody>\n",
       "    <tr>\n",
       "      <td>0</td>\n",
       "      <td>60</td>\n",
       "      <td>19.89</td>\n",
       "      <td>47.596667</td>\n",
       "      <td>19.2</td>\n",
       "      <td>44.790000</td>\n",
       "      <td>19.79</td>\n",
       "      <td>44.730000</td>\n",
       "      <td>19.000000</td>\n",
       "      <td>45.566667</td>\n",
       "      <td>17.166667</td>\n",
       "      <td>...</td>\n",
       "      <td>17.033333</td>\n",
       "      <td>45.53</td>\n",
       "      <td>6.600000</td>\n",
       "      <td>733.5</td>\n",
       "      <td>92.0</td>\n",
       "      <td>7.000000</td>\n",
       "      <td>63.000000</td>\n",
       "      <td>5.3</td>\n",
       "      <td>13.275433</td>\n",
       "      <td>13.275433</td>\n",
       "    </tr>\n",
       "    <tr>\n",
       "      <td>1</td>\n",
       "      <td>60</td>\n",
       "      <td>19.89</td>\n",
       "      <td>46.693333</td>\n",
       "      <td>19.2</td>\n",
       "      <td>44.722500</td>\n",
       "      <td>19.79</td>\n",
       "      <td>44.790000</td>\n",
       "      <td>19.000000</td>\n",
       "      <td>45.992500</td>\n",
       "      <td>17.166667</td>\n",
       "      <td>...</td>\n",
       "      <td>17.066667</td>\n",
       "      <td>45.56</td>\n",
       "      <td>6.483333</td>\n",
       "      <td>733.6</td>\n",
       "      <td>92.0</td>\n",
       "      <td>6.666667</td>\n",
       "      <td>59.166667</td>\n",
       "      <td>5.2</td>\n",
       "      <td>18.606195</td>\n",
       "      <td>18.606195</td>\n",
       "    </tr>\n",
       "    <tr>\n",
       "      <td>2</td>\n",
       "      <td>50</td>\n",
       "      <td>19.89</td>\n",
       "      <td>46.300000</td>\n",
       "      <td>19.2</td>\n",
       "      <td>44.626667</td>\n",
       "      <td>19.79</td>\n",
       "      <td>44.933333</td>\n",
       "      <td>18.926667</td>\n",
       "      <td>45.890000</td>\n",
       "      <td>17.166667</td>\n",
       "      <td>...</td>\n",
       "      <td>17.000000</td>\n",
       "      <td>45.50</td>\n",
       "      <td>6.366667</td>\n",
       "      <td>733.7</td>\n",
       "      <td>92.0</td>\n",
       "      <td>6.333333</td>\n",
       "      <td>55.333333</td>\n",
       "      <td>5.1</td>\n",
       "      <td>28.642668</td>\n",
       "      <td>28.642668</td>\n",
       "    </tr>\n",
       "    <tr>\n",
       "      <td>3</td>\n",
       "      <td>50</td>\n",
       "      <td>19.89</td>\n",
       "      <td>46.066667</td>\n",
       "      <td>19.2</td>\n",
       "      <td>44.590000</td>\n",
       "      <td>19.79</td>\n",
       "      <td>45.000000</td>\n",
       "      <td>18.890000</td>\n",
       "      <td>45.723333</td>\n",
       "      <td>17.166667</td>\n",
       "      <td>...</td>\n",
       "      <td>17.000000</td>\n",
       "      <td>45.40</td>\n",
       "      <td>6.250000</td>\n",
       "      <td>733.8</td>\n",
       "      <td>92.0</td>\n",
       "      <td>6.000000</td>\n",
       "      <td>51.500000</td>\n",
       "      <td>5.0</td>\n",
       "      <td>45.410389</td>\n",
       "      <td>45.410389</td>\n",
       "    </tr>\n",
       "    <tr>\n",
       "      <td>4</td>\n",
       "      <td>60</td>\n",
       "      <td>19.89</td>\n",
       "      <td>46.333333</td>\n",
       "      <td>19.2</td>\n",
       "      <td>44.530000</td>\n",
       "      <td>19.79</td>\n",
       "      <td>45.000000</td>\n",
       "      <td>18.890000</td>\n",
       "      <td>45.530000</td>\n",
       "      <td>17.200000</td>\n",
       "      <td>...</td>\n",
       "      <td>17.000000</td>\n",
       "      <td>45.40</td>\n",
       "      <td>6.133333</td>\n",
       "      <td>733.9</td>\n",
       "      <td>92.0</td>\n",
       "      <td>5.666667</td>\n",
       "      <td>47.666667</td>\n",
       "      <td>4.9</td>\n",
       "      <td>10.084097</td>\n",
       "      <td>10.084097</td>\n",
       "    </tr>\n",
       "  </tbody>\n",
       "</table>\n",
       "<p>5 rows × 27 columns</p>\n",
       "</div>"
      ],
      "text/plain": [
       "   Appliances  Temperature in Kitchen area  Humidity in kitchen area  \\\n",
       "0          60                        19.89                 47.596667   \n",
       "1          60                        19.89                 46.693333   \n",
       "2          50                        19.89                 46.300000   \n",
       "3          50                        19.89                 46.066667   \n",
       "4          60                        19.89                 46.333333   \n",
       "\n",
       "   Temperature in laundry room area  Humidity in living room area  \\\n",
       "0                              19.2                     44.790000   \n",
       "1                              19.2                     44.722500   \n",
       "2                              19.2                     44.626667   \n",
       "3                              19.2                     44.590000   \n",
       "4                              19.2                     44.530000   \n",
       "\n",
       "   Temperature in laundry room area.1  Humidity in office room  \\\n",
       "0                               19.79                44.730000   \n",
       "1                               19.79                44.790000   \n",
       "2                               19.79                44.933333   \n",
       "3                               19.79                45.000000   \n",
       "4                               19.79                45.000000   \n",
       "\n",
       "   Temperature in office room  Humidity in office room.1  \\\n",
       "0                   19.000000                  45.566667   \n",
       "1                   19.000000                  45.992500   \n",
       "2                   18.926667                  45.890000   \n",
       "3                   18.890000                  45.723333   \n",
       "4                   18.890000                  45.530000   \n",
       "\n",
       "   Temperature in bathroom  ...  Temperature in parents room  \\\n",
       "0                17.166667  ...                    17.033333   \n",
       "1                17.166667  ...                    17.066667   \n",
       "2                17.166667  ...                    17.000000   \n",
       "3                17.166667  ...                    17.000000   \n",
       "4                17.200000  ...                    17.000000   \n",
       "\n",
       "   Humidity in parents room  Temperature_out  Pressure_mm_hg  \\\n",
       "0                     45.53         6.600000           733.5   \n",
       "1                     45.56         6.483333           733.6   \n",
       "2                     45.50         6.366667           733.7   \n",
       "3                     45.40         6.250000           733.8   \n",
       "4                     45.40         6.133333           733.9   \n",
       "\n",
       "   Humidity outside (from Chievres weather station)  Windspeed  Visibility  \\\n",
       "0                                              92.0   7.000000   63.000000   \n",
       "1                                              92.0   6.666667   59.166667   \n",
       "2                                              92.0   6.333333   55.333333   \n",
       "3                                              92.0   6.000000   51.500000   \n",
       "4                                              92.0   5.666667   47.666667   \n",
       "\n",
       "   Tdewpoint  Random Variable 1  Random Variable 2  \n",
       "0        5.3          13.275433          13.275433  \n",
       "1        5.2          18.606195          18.606195  \n",
       "2        5.1          28.642668          28.642668  \n",
       "3        5.0          45.410389          45.410389  \n",
       "4        4.9          10.084097          10.084097  \n",
       "\n",
       "[5 rows x 27 columns]"
      ]
     },
     "execution_count": 4,
     "metadata": {},
     "output_type": "execute_result"
    }
   ],
   "source": [
    "raw_data.head()"
   ]
  },
  {
   "cell_type": "code",
   "execution_count": 16,
   "metadata": {},
   "outputs": [
    {
     "name": "stdout",
     "output_type": "stream",
     "text": [
      "19735 19735\n"
     ]
    }
   ],
   "source": [
    "from sklearn.model_selection import cross_validate\n",
    "from sklearn import preprocessing\n",
    "from sklearn.linear_model import LinearRegression\n",
    "from sklearn.preprocessing import MinMaxScaler\n",
    "scaler = MinMaxScaler()\n",
    "\n",
    "\n",
    "normalised_df = pd.DataFrame(scaler.fit_transform(raw_data), columns=raw_data.columns)#normalizing the dataset\n",
    "\n",
    "X=pd.DataFrame(normalised_df['Temperature in laundry room area'])\n",
    "y=pd.DataFrame(normalised_df['Temperature outside the building (north side)'])\n",
    "\n",
    "print(len(X), len(y))"
   ]
  },
  {
   "cell_type": "code",
   "execution_count": 18,
   "metadata": {},
   "outputs": [
    {
     "data": {
      "text/plain": [
       "LinearRegression(copy_X=True, fit_intercept=True, n_jobs=None, normalize=False)"
      ]
     },
     "execution_count": 18,
     "metadata": {},
     "output_type": "execute_result"
    }
   ],
   "source": [
    "from sklearn.model_selection import train_test_split\n",
    "#splitting the data\n",
    "\n",
    "X_train, X_test, y_train, y_test = train_test_split (X, y, test_size=0.3, random_state=42)\n",
    "#X_train and Y_train are used to fit our classsifiers\n",
    "\n",
    "clf=LinearRegression()\n",
    "clf.fit(X_train, y_train)"
   ]
  },
  {
   "cell_type": "code",
   "execution_count": 19,
   "metadata": {},
   "outputs": [
    {
     "name": "stdout",
     "output_type": "stream",
     "text": [
      "[[0.23928945]\n",
      " [0.46794238]\n",
      " [0.23108472]\n",
      " ...\n",
      " [0.3001772 ]\n",
      " [0.4297256 ]\n",
      " [0.3217686 ]]\n"
     ]
    }
   ],
   "source": [
    "predicted_values=clf.predict(X_test)\n",
    "print(predicted_values)"
   ]
  },
  {
   "cell_type": "code",
   "execution_count": 20,
   "metadata": {},
   "outputs": [
    {
     "data": {
      "text/plain": [
       "0.08"
      ]
     },
     "execution_count": 20,
     "metadata": {},
     "output_type": "execute_result"
    }
   ],
   "source": [
    "from sklearn.metrics import mean_absolute_error\n",
    "mae = mean_absolute_error(y_test, predicted_values)\n",
    "round(mae, 2)"
   ]
  },
  {
   "cell_type": "code",
   "execution_count": 21,
   "metadata": {},
   "outputs": [
    {
     "data": {
      "text/plain": [
       "0.64"
      ]
     },
     "execution_count": 21,
     "metadata": {},
     "output_type": "execute_result"
    }
   ],
   "source": [
    "from sklearn.metrics import r2_score\n",
    "r2_score = r2_score(y_test, predicted_values)\n",
    "round(r2_score, 2)"
   ]
  },
  {
   "cell_type": "code",
   "execution_count": 23,
   "metadata": {},
   "outputs": [
    {
     "name": "stdout",
     "output_type": "stream",
     "text": [
      "residual sum of squares:  Temperature outside the building (north side)    66.12\n",
      "dtype: float64\n"
     ]
    }
   ],
   "source": [
    "rss = np.sum(np.square(y_test - predicted_values))\n",
    "print('residual sum of squares: ', round(rss,2))"
   ]
  },
  {
   "cell_type": "code",
   "execution_count": 24,
   "metadata": {},
   "outputs": [
    {
     "name": "stdout",
     "output_type": "stream",
     "text": [
      "the mean squared error is:  0.011\n",
      "the root mean squared error is:  0.106\n"
     ]
    }
   ],
   "source": [
    "from sklearn.metrics import mean_squared_error\n",
    "mse=mean_squared_error(y_test, predicted_values)\n",
    "rmse=np.sqrt(mean_squared_error(y_test, predicted_values))\n",
    "print('the mean squared error is: ', round(mse, 3))\n",
    "print('the root mean squared error is: ', round(rmse, 3))"
   ]
  },
  {
   "cell_type": "code",
   "execution_count": 26,
   "metadata": {},
   "outputs": [
    {
     "data": {
      "text/plain": [
       "Ridge(alpha=0.4, copy_X=True, fit_intercept=True, max_iter=None,\n",
       "      normalize=False, random_state=None, solver='auto', tol=0.001)"
      ]
     },
     "execution_count": 26,
     "metadata": {},
     "output_type": "execute_result"
    }
   ],
   "source": [
    "from sklearn.linear_model import Ridge\n",
    "ridge_reg = Ridge(alpha=0.4)\n",
    "ridge_reg.fit(X_train, y_train)"
   ]
  },
  {
   "cell_type": "code",
   "execution_count": 28,
   "metadata": {},
   "outputs": [
    {
     "name": "stdout",
     "output_type": "stream",
     "text": [
      "0.10567064851347531\n"
     ]
    }
   ],
   "source": [
    "rmse=np.sqrt(mean_squared_error(y_test, predicted_values))\n",
    "print(rmse)"
   ]
  },
  {
   "cell_type": "code",
   "execution_count": 31,
   "metadata": {},
   "outputs": [
    {
     "data": {
      "text/plain": [
       "Lasso(alpha=0.001, copy_X=True, fit_intercept=True, max_iter=1000,\n",
       "      normalize=False, positive=False, precompute=False, random_state=None,\n",
       "      selection='cyclic', tol=0.0001, warm_start=False)"
      ]
     },
     "execution_count": 31,
     "metadata": {},
     "output_type": "execute_result"
    }
   ],
   "source": [
    "from sklearn.linear_model import Lasso\n",
    "lasso_reg = Lasso(alpha=0.001)\n",
    "lasso_reg.fit(X_train, y_train)"
   ]
  },
  {
   "cell_type": "code",
   "execution_count": 33,
   "metadata": {},
   "outputs": [
    {
     "name": "stdout",
     "output_type": "stream",
     "text": [
      "0.106\n"
     ]
    }
   ],
   "source": [
    "rmse=np.sqrt(mean_squared_error(y_test, predicted_values))\n",
    "print(round(rmse,3))"
   ]
  },
  {
   "cell_type": "code",
   "execution_count": null,
   "metadata": {},
   "outputs": [],
   "source": []
  }
 ],
 "metadata": {
  "kernelspec": {
   "display_name": "Python 3",
   "language": "python",
   "name": "python3"
  },
  "language_info": {
   "codemirror_mode": {
    "name": "ipython",
    "version": 3
   },
   "file_extension": ".py",
   "mimetype": "text/x-python",
   "name": "python",
   "nbconvert_exporter": "python",
   "pygments_lexer": "ipython3",
   "version": "3.7.4"
  }
 },
 "nbformat": 4,
 "nbformat_minor": 2
}
